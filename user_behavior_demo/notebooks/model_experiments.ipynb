{
 "cells": [
  {
   "cell_type": "markdown",
   "metadata": {},
   "source": [
    "# Embedding and Clustering Experiments\n",
    "This notebook demonstrates how to reuse the reusable modules from `src/`."
   ]
  },
  {
   "cell_type": "code",
   "execution_count": null,
   "metadata": {},
   "outputs": [],
   "source": [
    "from pathlib import Path\n",
    "import pandas as pd\n",
    "from src.preprocess import preprocess\n",
    "from src.embeddings.word2vec_model import train_word2vec, get_user_embeddings\n",
    "from src.clustering.kmeans_cluster import run_kmeans\n",
    "data_dir = Path('..') / 'data'\n",
    "transactions, features, sequences = preprocess(data_dir / 'OnlineRetail.csv', data_dir / 'synthetic_touchpoints.csv')\n",
    "model = train_word2vec(sequences, vector_size=8, epochs=50)\n",
    "embeddings = get_user_embeddings(sequences, model)\n",
    "_, labels = run_kmeans(embeddings, n_clusters=3)\n",
    "labels"
   ]
  }
 ],
 "metadata": {
  "kernelspec": {
   "display_name": "Python 3",
   "language": "python",
   "name": "python3"
  },
  "language_info": {
   "name": "python",
   "version": "3.11"
  }
 },
 "nbformat": 4,
 "nbformat_minor": 5
}
